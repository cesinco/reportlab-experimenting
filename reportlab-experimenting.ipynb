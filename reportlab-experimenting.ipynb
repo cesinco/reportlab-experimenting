{
 "cells": [
  {
   "cell_type": "code",
   "execution_count": 1,
   "metadata": {},
   "outputs": [],
   "source": [
    "import os\n",
    "import reportlab\n",
    "from reportlab.lib.units import inch\n",
    "from reportlab.pdfbase import pdfmetrics\n",
    "from reportlab.pdfgen import canvas\n",
    "from reportlab.lib import colors\n",
    "from reportlab.pdfgen.canvas import Color, toColor\n",
    "from reportlab.lib.pagesizes import letter, A4\n",
    "from reportlab.platypus import Paragraph, Table, TableStyle\n",
    "from reportlab.lib.styles import ParagraphStyle, getSampleStyleSheet\n",
    "from reportlab.graphics import shapes\n",
    "from reportlab.graphics.charts.textlabels import Label\n",
    "from reportlab.graphics.charts.lineplots import ScatterPlot\n",
    "from reportlab.graphics.charts.barcharts import VerticalBarChart\n",
    "from reportlab.graphics.charts.legends import Legend\n",
    "import numpy as np\n",
    "from PIL import Image"
   ]
  },
  {
   "cell_type": "code",
   "execution_count": 2,
   "metadata": {},
   "outputs": [
    {
     "data": {
      "text/plain": [
       "['Symbol', 'ZapfDingbats']"
      ]
     },
     "execution_count": 2,
     "metadata": {},
     "output_type": "execute_result"
    }
   ],
   "source": [
    "pdfmetrics.getRegisteredFontNames()"
   ]
  },
  {
   "cell_type": "code",
   "execution_count": 3,
   "metadata": {},
   "outputs": [
    {
     "data": {
      "text/plain": [
       "['Playbill', 'Rage', 'Symbol', 'ZapfDingbats']"
      ]
     },
     "execution_count": 3,
     "metadata": {},
     "output_type": "execute_result"
    }
   ],
   "source": [
    "# To import and use True Type Fonts, we need\n",
    "from reportlab.pdfbase.ttfonts import TTFont\n",
    "\n",
    "font_folder = 'C:\\\\Program Files (x86)\\\\Microsoft Office\\\\root\\\\VFS\\Fonts\\\\private\\\\' # Or wherever you might have TTF files\n",
    "\n",
    "pdfmetrics.registerFont(TTFont('Playbill', font_folder + 'PLAYBILL.TTF'))\n",
    "pdfmetrics.registerFont(TTFont('Rage', font_folder + 'RAGE.TTF'))\n",
    "\n",
    "pdfmetrics.getRegisteredFontNames()"
   ]
  },
  {
   "cell_type": "code",
   "execution_count": 4,
   "metadata": {},
   "outputs": [
    {
     "data": {
      "text/plain": [
       "['Barcode39', 'Playbill', 'Rage', 'Symbol', 'ZapfDingbats']"
      ]
     },
     "execution_count": 4,
     "metadata": {},
     "output_type": "execute_result"
    }
   ],
   "source": [
    "r1_font_folder = os.path.dirname(reportlab.__file__) + os.sep + 'fonts'\n",
    "barcode_39_path = os.path.join(r1_font_folder, 'LibreBarcode39-Regular.ttf')\n",
    "pdfmetrics.registerFont(TTFont('Barcode39', barcode_39_path))\n",
    "pdfmetrics.getRegisteredFontNames()"
   ]
  },
  {
   "cell_type": "code",
   "execution_count": 5,
   "metadata": {},
   "outputs": [
    {
     "name": "stdout",
     "output_type": "stream",
     "text": [
      "name = Normal\n",
      "parent = None\n",
      "alignment = 0\n",
      "allowOrphans = 0\n",
      "allowWidows = 1\n",
      "backColor = None\n",
      "borderColor = None\n",
      "borderPadding = 0\n",
      "borderRadius = None\n",
      "borderWidth = 0\n",
      "bulletAnchor = start\n",
      "bulletFontName = Helvetica\n",
      "bulletFontSize = 10\n",
      "bulletIndent = 0\n",
      "embeddedHyphenation = 0\n",
      "endDots = None\n",
      "firstLineIndent = 0\n",
      "fontName = Helvetica\n",
      "fontSize = 10\n",
      "hyphenationLang = \n",
      "justifyBreaks = 0\n",
      "justifyLastLine = 0\n",
      "leading = 12\n",
      "leftIndent = 0\n",
      "linkUnderline = 0\n",
      "rightIndent = 0\n",
      "spaceAfter = 0\n",
      "spaceBefore = 0\n",
      "spaceShrinkage = 0.05\n",
      "splitLongWords = 1\n",
      "strikeColor = None\n",
      "strikeGap = 1\n",
      "strikeOffset = 0.25*F\n",
      "strikeWidth = \n",
      "textColor = Color(0,0,0,1)\n",
      "textTransform = None\n",
      "underlineColor = None\n",
      "underlineGap = 1\n",
      "underlineOffset = -0.125*F\n",
      "underlineWidth = \n",
      "uriWasteReduce = 0\n",
      "wordWrap = None\n"
     ]
    }
   ],
   "source": [
    "stylesheet = getSampleStyleSheet()\n",
    "#stylesheet.list())\n",
    "normalStyle = stylesheet[\"Normal\"]\n",
    "normalStyle.listAttrs()"
   ]
  },
  {
   "cell_type": "code",
   "execution_count": 6,
   "metadata": {},
   "outputs": [
    {
     "name": "stdout",
     "output_type": "stream",
     "text": [
      "name = Normal\n",
      "parent = None\n",
      "alignment = 0\n",
      "allowOrphans = 0\n",
      "allowWidows = 1\n",
      "backColor = None\n",
      "borderColor = None\n",
      "borderPadding = 0\n",
      "borderRadius = None\n",
      "borderWidth = 0\n",
      "bulletAnchor = start\n",
      "bulletFontName = Helvetica\n",
      "bulletFontSize = 10\n",
      "bulletIndent = 0\n",
      "embeddedHyphenation = 0\n",
      "endDots = None\n",
      "firstLineIndent = 0\n",
      "fontName = Rage\n",
      "fontSize = 10\n",
      "fontsize = 14\n",
      "hyphenationLang = \n",
      "justifyBreaks = 0\n",
      "justifyLastLine = 0\n",
      "leading = 12\n",
      "leftIndent = 0\n",
      "linkUnderline = 0\n",
      "rightIndent = 0\n",
      "spaceAfter = 0\n",
      "spaceBefore = 0\n",
      "spaceShrinkage = 0.05\n",
      "splitLongWords = 1\n",
      "strikeColor = None\n",
      "strikeGap = 1\n",
      "strikeOffset = 0.25*F\n",
      "strikeWidth = \n",
      "textColor = Color(0,0,0,1)\n",
      "textTransform = None\n",
      "underlineColor = None\n",
      "underlineGap = 1\n",
      "underlineOffset = -0.125*F\n",
      "underlineWidth = \n",
      "uriWasteReduce = 0\n",
      "wordWrap = None\n"
     ]
    }
   ],
   "source": [
    "normalStyle.fontName = 'Rage'\n",
    "normalStyle.fontsize= 14\n",
    "normalStyle.listAttrs()"
   ]
  },
  {
   "attachments": {},
   "cell_type": "markdown",
   "metadata": {},
   "source": [
    "## Page 1 of PDF file"
   ]
  },
  {
   "cell_type": "code",
   "execution_count": 7,
   "metadata": {},
   "outputs": [
    {
     "name": "stdout",
     "output_type": "stream",
     "text": [
      "width=612.0, height=792.0\n"
     ]
    }
   ],
   "source": [
    "img_file = 'SkullsBackground_800x800.png'\n",
    "im = Image.open(img_file)\n",
    "\n",
    "c = canvas.Canvas(\"reportlab_pdf.pdf\", pagesize=letter)\n",
    "width, height = letter\n",
    "print(f'width={width}, height={height}')\n",
    "\n",
    "c.ellipse(200, 200, 412, 592, stroke=1, fill=0)\n",
    "c.drawString(100,300, \"Hello World\")\n",
    "c.drawRightString(512, 500, \"Goodbye, World\")\n",
    "c.drawCentredString(width/2, height/2, \"Heyyyy\")\n",
    "c.setFont('Barcode39', 48)\n",
    "c.drawString(100, 450, \"1234567890\")\n",
    "c.setFont('Playbill', 16)\n",
    "textobject = c.beginText (50, 642)\n",
    "text_block = '''Here we are writing some multi-line text in Python and sending it to be printed out to PDF using a textobject.\n",
    "Since we have line breaks in the\n",
    "text, these breaks are not\n",
    "ignored and the text is not run together as if it were one long string. The existing carriage returns and line feeds are respected, and lines of text may extend past the page edge\n",
    "with the number of lines output equal to the number of lines in this multi-line block.'''\n",
    "textobject.textLines(text_block)\n",
    "c.drawText(textobject)\n",
    "\n",
    "#c.drawImage(img_file, 300, 300, width=200, height=(200*im.height/im.width), mask=[252, 255, 252, 255, 252, 255]) # instead of mask-'auto' this has the result of turning near pure white pixels transparent\n",
    "c.drawImage(img_file, 300, 300, width=200, height=(200*im.height/im.width), mask=[100, 105, 40, 45, 158, 160]) # For the skulls PNG file, these values capture most of the background for the image, leaving only the skulls and shadows\n",
    "\n",
    "para_block = '''Here we are writing some multi-line text in Python and sending it to be printed out to PDF using a Paragraph.\n",
    "Although we have line breaks in the\n",
    "text, these are presumably\n",
    "ignored and the text is run together as if it were one long string. If so, then when the carriage returns and line feeds are deleted, we should expect to see words slammed\n",
    "together where one line meets the other in this multi-line block'''\n",
    "para = Paragraph(para_block, normalStyle)\n",
    "w, h = para.wrap(width-100, height-600)\n",
    "para.drawOn(c, 50, height-600)\n",
    "\n",
    "c.showPage () # Creates the page - all other drawing on the canvas will go onto the next page until another showPage() is executed"
   ]
  },
  {
   "attachments": {},
   "cell_type": "markdown",
   "metadata": {},
   "source": [
    "## Page 2 of PDF file"
   ]
  },
  {
   "cell_type": "code",
   "execution_count": 8,
   "metadata": {},
   "outputs": [],
   "source": [
    "header = [f\"Col {i+1}\" for i in range(8)]\n",
    "data = list(np.random.uniform(0.0, 1.0, (24, 8)).round(4).astype(str))\n",
    "data = [list(r) for r in data]\n",
    "data = [header] + data\n",
    "tbl = Table(data)\n",
    "LIST_STYLE = TableStyle([\n",
    "      ('TEXTCOLOR', (0,0), (-1,0), colors.darkblue)\n",
    "    , ('BACKGROUND', (0,0), (-1,0), colors.grey)\n",
    "])\n",
    "for row in range (1, 25):\n",
    "    for col in range(8):\n",
    "        LIST_STYLE.add('BACKGROUND', (col, row), (col, row), Color(1.0 - float(data[row][col]), float(data[row][col]), 0.0))\n",
    "        #LIST_STYLE. add('BACKGROUND', (col, row), (col, row), toColor(f'rgb({int(255 * (1.0 - float (data[row][col])))}, {int (255 * float (data[row][col]))}, 0)'))\n",
    "        #if float (data[row][col]) ›= 0.5:\n",
    "        #   LIST_STYLE.add('BACKGROUND', (col, row), (col, row), colors.green)\n",
    "\n",
    "tbl.setStyle(LIST_STYLE)\n",
    "w, h = tbl.wrapOn(c, 0, 0)\n",
    "tbl.drawOn(c, 0.5*inch, 0.5*inch)\n",
    "c.showPage()"
   ]
  },
  {
   "attachments": {},
   "cell_type": "markdown",
   "metadata": {},
   "source": [
    "## Page 3 of PDF file"
   ]
  },
  {
   "cell_type": "code",
   "execution_count": 9,
   "metadata": {},
   "outputs": [],
   "source": [
    "d = shapes.Drawing(width, height)\n",
    "d.add(shapes.Circle(200, 100, 50, fillColor=Color(1.0, 1.0, 0.0))) # Yellow = rgb (255, 255, 0)\n",
    "\n",
    "lab = Label()\n",
    "lab.setOrigin(100, 90)\n",
    "lab.boxAnchor = 'ne'\n",
    "lab.angle = 45\n",
    "lab.dx = 0\n",
    "lab.dy = -20\n",
    "lab.boxStrokeColor = colors.green\n",
    "lab.setText('Some\\nMulti-Line\\nLabel')\n",
    "d.add(lab)\n",
    "\n",
    "# See also https://www.reportlab.com/chartgallery/\n",
    "dta = [tuple(np.random.normal(20, 5, 400))]\n",
    "scat = ScatterPlot()\n",
    "scat.x = 50\n",
    "scat.y = 500\n",
    "scat.width = width - 100\n",
    "scat.height = height - 550\n",
    "#scat.data = [(str(x), x, y) for x, y in enumerate(sorted(dta[0]))]\n",
    "scat.data = [[(x, y)] for x, y in enumerate(sorted(dta[0]))] # example: [[(2.25, 4.48)], [(3.59. 4.42)], [(3.52, 3.58)]]\n",
    "d.add(scat)\n",
    "\n",
    "hist_dta = np.histogram(dta[0], bins=20)\n",
    "bc = VerticalBarChart()\n",
    "bc.x = 50\n",
    "bc.y = 200\n",
    "scat.width = width - 100\n",
    "scat.height = 250\n",
    "bc.data = [tuple(hist_dta[0])]\n",
    "d.add(bc)\n",
    "\n",
    "d.drawOn(c, 0, 0)\n",
    "c.showPage()"
   ]
  },
  {
   "cell_type": "code",
   "execution_count": 10,
   "metadata": {},
   "outputs": [],
   "source": [
    "c.save() # Finalizes the output by saving the PDF file and all pages that were created]"
   ]
  }
 ],
 "metadata": {
  "kernelspec": {
   "display_name": "Python 3",
   "language": "python",
   "name": "python3"
  },
  "language_info": {
   "codemirror_mode": {
    "name": "ipython",
    "version": 3
   },
   "file_extension": ".py",
   "mimetype": "text/x-python",
   "name": "python",
   "nbconvert_exporter": "python",
   "pygments_lexer": "ipython3",
   "version": "3.11.1"
  },
  "orig_nbformat": 4
 },
 "nbformat": 4,
 "nbformat_minor": 2
}
