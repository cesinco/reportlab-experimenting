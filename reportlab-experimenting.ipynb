{
 "cells": [
  {
   "cell_type": "code",
   "execution_count": 1,
   "metadata": {},
   "outputs": [],
   "source": [
    "import os\n",
    "import reportlab\n",
    "from reportlab.lib.units import inch\n",
    "from reportlab.pdfbase import pdfmetrics\n",
    "from reportlab.pdfgen import canvas\n",
    "from reportlab.lib import colors\n",
    "from reportlab.pdfgen.canvas import Color, toColor\n",
    "from reportlab.lib.pagesizes import letter, A4\n",
    "from reportlab.platypus import Paragraph, Table, TableStyle\n",
    "from reportlab.lib.styles import ParagraphStyle, getSampleStyleSheet\n",
    "from reportlab.graphics import shapes\n",
    "from reportlab.graphics.charts.textlabels import Label\n",
    "from reportlab.graphics.charts.lineplots import ScatterPlot\n",
    "from reportlab.graphics.charts.barcharts import VerticalBarChart\n",
    "from reportlab.graphics.charts.piecharts import Pie3d\n",
    "from reportlab.graphics.charts.legends import Legend\n",
    "import numpy as np\n",
    "from PIL import Image\n",
    "from loremipsum import generate_paragraph, generate_paragraphs, get_paragraphs\n",
    "import lorem\n",
    "from reportlab.graphics import barcode"
   ]
  },
  {
   "cell_type": "code",
   "execution_count": 2,
   "metadata": {},
   "outputs": [
    {
     "data": {
      "text/plain": [
       "{'I2of5': BarcodeI2of5,\n",
       " 'Code128': BarcodeCode128,\n",
       " 'Code128Auto': BarcodeCode128Auto,\n",
       " 'Standard93': BarcodeStandard93,\n",
       " 'Extended93': BarcodeExtended93,\n",
       " 'Standard39': BarcodeStandard39,\n",
       " 'Extended39': BarcodeExtended39,\n",
       " 'MSI': BarcodeMSI,\n",
       " 'Codabar': BarcodeCodabar,\n",
       " 'Code11': BarcodeCode11,\n",
       " 'FIM': BarcodeFIM,\n",
       " 'POSTNET': BarcodePOSTNET,\n",
       " 'USPS_4State': BarcodeUSPS_4State,\n",
       " 'EAN13': reportlab.graphics.barcode.eanbc.Ean13BarcodeWidget,\n",
       " 'EAN8': reportlab.graphics.barcode.eanbc.Ean8BarcodeWidget,\n",
       " 'UPCA': reportlab.graphics.barcode.eanbc.UPCA,\n",
       " 'EAN5': reportlab.graphics.barcode.eanbc.Ean5BarcodeWidget,\n",
       " 'ISBN': reportlab.graphics.barcode.eanbc.ISBNBarcodeWidget,\n",
       " 'QR': reportlab.graphics.barcode.qr.QrCodeWidget,\n",
       " 'ECC200DataMatrix': BarcodeECC200DataMatrix}"
      ]
     },
     "execution_count": 2,
     "metadata": {},
     "output_type": "execute_result"
    }
   ],
   "source": [
    "# Display the barcode typesd that can be handedl natively without the use of fonts\n",
    "barcode.getCodes()"
   ]
  },
  {
   "cell_type": "code",
   "execution_count": 3,
   "metadata": {},
   "outputs": [
    {
     "data": {
      "text/plain": [
       "['Symbol', 'ZapfDingbats']"
      ]
     },
     "execution_count": 3,
     "metadata": {},
     "output_type": "execute_result"
    }
   ],
   "source": [
    "pdfmetrics.getRegisteredFontNames()"
   ]
  },
  {
   "cell_type": "code",
   "execution_count": 4,
   "metadata": {},
   "outputs": [
    {
     "data": {
      "text/plain": [
       "['Playbill', 'Rage', 'Symbol', 'ZapfDingbats']"
      ]
     },
     "execution_count": 4,
     "metadata": {},
     "output_type": "execute_result"
    }
   ],
   "source": [
    "# To import and use True Type Fonts, we need\n",
    "from reportlab.pdfbase.ttfonts import TTFont\n",
    "\n",
    "font_folder = r'C:\\Program Files (x86)\\Microsoft Office\\root\\VFS\\Fonts\\private' # Or wherever you might have TTF files\n",
    "\n",
    "pdfmetrics.registerFont(TTFont('Playbill', font_folder + '\\\\PLAYBILL.TTF'))\n",
    "pdfmetrics.registerFont(TTFont('Rage', font_folder + '\\\\RAGE.TTF'))\n",
    "\n",
    "pdfmetrics.getRegisteredFontNames()"
   ]
  },
  {
   "cell_type": "code",
   "execution_count": 5,
   "metadata": {},
   "outputs": [
    {
     "data": {
      "text/plain": [
       "['ArialBold',\n",
       " 'ArialBoldItalic',\n",
       " 'ArialNormal',\n",
       " 'Barcode39',\n",
       " 'Barcode39x',\n",
       " 'Playbill',\n",
       " 'Rage',\n",
       " 'Symbol',\n",
       " 'ZapfDingbats']"
      ]
     },
     "execution_count": 5,
     "metadata": {},
     "output_type": "execute_result"
    }
   ],
   "source": [
    "rl_font_folder = os.path.dirname(reportlab.__file__) + os.sep + 'fonts'\n",
    "barcode_39_path = os.path.join(rl_font_folder, 'LibreBarcode39-Regular.ttf')\n",
    "barcode_39x_path = os.path.join(rl_font_folder, 'fre3of9x.ttf')\n",
    "pdfmetrics.registerFont(TTFont('Barcode39', barcode_39_path))\n",
    "pdfmetrics.registerFont(TTFont('Barcode39x', barcode_39x_path))\n",
    "\n",
    "font_folder = r'C:\\Windows\\WinSxS\\amd64_microsoft-windows-font-truetype-arial_31bf3856ad364e35_10.0.19041.1_none_28747db34cb89a67' # Or wherever you might have TTF files\n",
    "pdfmetrics.registerFont(TTFont('ArialNormal', font_folder + '\\\\arial.ttf'))\n",
    "pdfmetrics.registerFont(TTFont('ArialBold', font_folder + '\\\\arialbd.ttf'))\n",
    "pdfmetrics.registerFont(TTFont('ArialBoldItalic', font_folder + '\\\\arialbi.ttf'))\n",
    "\n",
    "pdfmetrics.getRegisteredFontNames()"
   ]
  },
  {
   "cell_type": "code",
   "execution_count": 6,
   "metadata": {},
   "outputs": [
    {
     "name": "stdout",
     "output_type": "stream",
     "text": [
      "name = Normal\n",
      "parent = None\n",
      "alignment = 0\n",
      "allowOrphans = 0\n",
      "allowWidows = 1\n",
      "backColor = None\n",
      "borderColor = None\n",
      "borderPadding = 0\n",
      "borderRadius = None\n",
      "borderWidth = 0\n",
      "bulletAnchor = start\n",
      "bulletFontName = Helvetica\n",
      "bulletFontSize = 10\n",
      "bulletIndent = 0\n",
      "embeddedHyphenation = 0\n",
      "endDots = None\n",
      "firstLineIndent = 0\n",
      "fontName = Helvetica\n",
      "fontSize = 10\n",
      "hyphenationLang = \n",
      "justifyBreaks = 0\n",
      "justifyLastLine = 0\n",
      "leading = 12\n",
      "leftIndent = 0\n",
      "linkUnderline = 0\n",
      "rightIndent = 0\n",
      "spaceAfter = 0\n",
      "spaceBefore = 0\n",
      "spaceShrinkage = 0.05\n",
      "splitLongWords = 1\n",
      "strikeColor = None\n",
      "strikeGap = 1\n",
      "strikeOffset = 0.25*F\n",
      "strikeWidth = \n",
      "textColor = Color(0,0,0,1)\n",
      "textTransform = None\n",
      "underlineColor = None\n",
      "underlineGap = 1\n",
      "underlineOffset = -0.125*F\n",
      "underlineWidth = \n",
      "uriWasteReduce = 0\n",
      "wordWrap = None\n"
     ]
    }
   ],
   "source": [
    "stylesheet = getSampleStyleSheet()\n",
    "#stylesheet.list()\n",
    "normalStyle = stylesheet[\"Normal\"]\n",
    "normalStyle.listAttrs()"
   ]
  },
  {
   "cell_type": "code",
   "execution_count": 7,
   "metadata": {},
   "outputs": [
    {
     "name": "stdout",
     "output_type": "stream",
     "text": [
      "name = Normal\n",
      "parent = None\n",
      "alignment = 0\n",
      "allowOrphans = 0\n",
      "allowWidows = 1\n",
      "backColor = None\n",
      "borderColor = None\n",
      "borderPadding = 0\n",
      "borderRadius = None\n",
      "borderWidth = 0\n",
      "bulletAnchor = start\n",
      "bulletFontName = Helvetica\n",
      "bulletFontSize = 10\n",
      "bulletIndent = 0\n",
      "embeddedHyphenation = 0\n",
      "endDots = None\n",
      "firstLineIndent = 0\n",
      "fontName = Rage\n",
      "fontSize = 10\n",
      "fontsize = 14\n",
      "hyphenationLang = \n",
      "justifyBreaks = 0\n",
      "justifyLastLine = 0\n",
      "leading = 12\n",
      "leftIndent = 0\n",
      "linkUnderline = 0\n",
      "rightIndent = 0\n",
      "spaceAfter = 0\n",
      "spaceBefore = 0\n",
      "spaceShrinkage = 0.05\n",
      "splitLongWords = 1\n",
      "strikeColor = None\n",
      "strikeGap = 1\n",
      "strikeOffset = 0.25*F\n",
      "strikeWidth = \n",
      "textColor = Color(0,0,0,1)\n",
      "textTransform = None\n",
      "underlineColor = None\n",
      "underlineGap = 1\n",
      "underlineOffset = -0.125*F\n",
      "underlineWidth = \n",
      "uriWasteReduce = 0\n",
      "wordWrap = None\n"
     ]
    }
   ],
   "source": [
    "normalStyle.fontName = 'Rage'\n",
    "normalStyle.fontsize= 14\n",
    "normalStyle.listAttrs()"
   ]
  },
  {
   "attachments": {},
   "cell_type": "markdown",
   "metadata": {},
   "source": [
    "## Page 1 of PDF file"
   ]
  },
  {
   "cell_type": "code",
   "execution_count": 8,
   "metadata": {},
   "outputs": [
    {
     "name": "stdout",
     "output_type": "stream",
     "text": [
      "Page width = 612.0, page height = 792.0\n",
      "Paragraph height = 36, paragraph width = 512.0\n"
     ]
    }
   ],
   "source": [
    "img_file = 'SkullsBackground_800x800.png'\n",
    "im = Image.open(img_file)\n",
    "\n",
    "c = canvas.Canvas(\"reportlab_pdf.pdf\", pagesize=letter)\n",
    "width, height = letter\n",
    "print(f'Page width = {width}, page height = {height}')\n",
    "\n",
    "c.ellipse(200, 200, 412, 592, stroke=1, fill=0)\n",
    "c.drawString(100,300, \"Hello World\")\n",
    "c.drawRightString(512, 500, \"Goodbye, World\")\n",
    "c.drawCentredString(width/2, height/2, \"Heyyyy\")\n",
    "c.setFont('Barcode39x', 48)\n",
    "c.drawString(100, 450, \"1234567890\")\n",
    "c.setFont('Playbill', 16)\n",
    "textobject = c.beginText(50, 642)\n",
    "text_block = '''Here we are writing some multi-line text in Python and sending it to be printed out to PDF using a textobject.\n",
    "Since we have line breaks in the\n",
    "text, these breaks are not\n",
    "ignored and the text is not run together as if it were one long string. The existing carriage returns and line feeds are respected, and lines of text may extend past the page edge\n",
    "with the number of lines output equal to the number of lines in this multi-line block.'''\n",
    "textobject.textLines(text_block)\n",
    "#print(textobject.getX(), textobject.getY(), textobject.getCursor())\n",
    "c.drawText(textobject)\n",
    "\n",
    "#c.drawImage(img_file, 300, 300, width=200, height=(200*im.height/im.width), mask=[252, 255, 252, 255, 252, 255]) # instead of mask-'auto' this has the result of turning near pure white pixels transparent\n",
    "c.drawImage(img_file, 300, 300, width=200, height=(200*im.height/im.width), mask=[100, 105, 40, 45, 158, 160]) # For the skulls PNG file, these values capture most of the background for the image, leaving only the skulls and shadows\n",
    "\n",
    "para_block = '''Here we are writing some multi-line text in Python and sending it to be printed out to PDF using a Paragraph.\n",
    "Although we have line breaks in the\n",
    "text, these are presumably\n",
    "ignored and the text is run together as if it were one long string. If so, then when the carriage returns and line feeds are deleted, we should expect to see words slammed\n",
    "together where one line meets the other in this multi-line block'''\n",
    "para = Paragraph(para_block, normalStyle)\n",
    "w, h = para.wrap(width-100, height-600)\n",
    "\n",
    "# Before we place the paragraph, we might want to know how much room it takes up\n",
    "print(f\"Paragraph height = {para.height}, paragraph width = {para.width}\")\n",
    "\n",
    "# In this case, we simply place the paragraph without bother to align it immediately below the last object placed\n",
    "para.drawOn(c, 50, height-600)\n",
    "\n",
    "c.showPage() # Creates the page - all other drawing on the canvas will go onto the next page until another showPage() is executed"
   ]
  },
  {
   "attachments": {},
   "cell_type": "markdown",
   "metadata": {},
   "source": [
    "## Page 2 of PDF file"
   ]
  },
  {
   "cell_type": "code",
   "execution_count": 9,
   "metadata": {},
   "outputs": [
    {
     "name": "stdout",
     "output_type": "stream",
     "text": [
      "Table height = 450, table width = 340.63999999999993\n",
      "Row positions = [450, 432, 414, 396, 378, 360, 342, 324, 306, 288, 270, 252, 234, 216, 198, 180, 162, 144, 126, 108, 90, 72, 54, 36, 18, 0], row heights = [18, 18, 18, 18, 18, 18, 18, 18, 18, 18, 18, 18, 18, 18, 18, 18, 18, 18, 18, 18, 18, 18, 18, 18, 18]\n",
      "Column positions = [0, 42.58, 85.16, 127.74, 170.32, 212.89999999999998, 255.47999999999996, 298.05999999999995, 340.63999999999993], column widths = [42.58, 42.58, 42.58, 42.58, 42.58, 42.58, 42.58, 42.58]\n"
     ]
    }
   ],
   "source": [
    "header = [f\"Col {i+1}\" for i in range(8)]\n",
    "data = list(np.random.uniform(0.0, 1.0, (24, 8)).round(4).astype(str))\n",
    "data = [list(r) for r in data]\n",
    "data = [header] + data\n",
    "tbl = Table(data)\n",
    "LIST_STYLE = TableStyle([\n",
    "      ('TEXTCOLOR', (0,0), (-1,0), colors.darkblue)\n",
    "    , ('BACKGROUND', (0,0), (-1,0), colors.grey)\n",
    "])\n",
    "for row in range (1, 25):\n",
    "    for col in range(8):\n",
    "        LIST_STYLE.add('BACKGROUND', (col, row), (col, row), Color(1.0 - float(data[row][col]), float(data[row][col]), 0.0))\n",
    "        #LIST_STYLE. add('BACKGROUND', (col, row), (col, row), toColor(f'rgb({int(255 * (1.0 - float (data[row][col])))}, {int (255 * float (data[row][col]))}, 0)'))\n",
    "        #if float(data[row][col]) >= 0.5:\n",
    "        #   LIST_STYLE.add('BACKGROUND', (col, row), (col, row), colors.green)\n",
    "\n",
    "tbl.setStyle(LIST_STYLE)\n",
    "w, h = tbl.wrapOn(c, 0, 0)\n",
    "print(f\"Table height = {tbl._height}, table width = {tbl._width}\")\n",
    "print(f\"Row positions = {tbl._rowpositions}, row heights = {tbl._rowHeights}\")\n",
    "print(f\"Column positions = {tbl._colpositions}, column widths = {tbl._colWidths}\")\n",
    "tbl.drawOn(c, 0.5*inch, 0.5*inch)\n",
    "c.showPage()"
   ]
  },
  {
   "attachments": {},
   "cell_type": "markdown",
   "metadata": {},
   "source": [
    "## Page 3 of PDF file"
   ]
  },
  {
   "cell_type": "code",
   "execution_count": 10,
   "metadata": {},
   "outputs": [
    {
     "name": "stdout",
     "output_type": "stream",
     "text": [
      "Scatter plot boundaries = (1.4, 1.3999999999999995, 510.5, 566.6)\n",
      "Bar plot boundaries = (52.0, 174.0, 504.0, 330.0)\n"
     ]
    }
   ],
   "source": [
    "d = shapes.Drawing(width, height)\n",
    "d.add(shapes.Circle(200, 100, 50, fillColor=Color(1.0, 1.0, 0.0))) # Yellow = rgb (255, 255, 0)\n",
    "\n",
    "lab = Label()\n",
    "lab.setOrigin(100, 90)\n",
    "lab.boxAnchor = 'ne'\n",
    "lab.angle = 45\n",
    "lab.dx = 0\n",
    "lab.dy = -20\n",
    "lab.boxStrokeColor = colors.green\n",
    "lab.setText('Some\\nMulti-Line\\nLabel')\n",
    "d.add(lab)\n",
    "\n",
    "# See also https://www.reportlab.com/chartgallery/\n",
    "dta = [tuple(np.random.normal(20, 5, 400))]\n",
    "scat = ScatterPlot()\n",
    "scat.x = 1 * inch\n",
    "scat.y = 5 * inch\n",
    "scat.width = width - 2.5 * inch\n",
    "scat.height = 2.75 * inch\n",
    "print(f\"Scatter plot boundaries = {scat.getBounds()}\")\n",
    "#scat.data = [(str(x), x, y) for x, y in enumerate(sorted(dta[0]))]\n",
    "scat.data = [[(x, y)] for x, y in enumerate(sorted(dta[0]))] # example: [[(2.25, 4.48)], [(3.59. 4.42)], [(3.52, 3.58)]]\n",
    "d.add(scat)\n",
    "\n",
    "hist_dta = np.histogram(dta[0], bins=20)\n",
    "bc = VerticalBarChart()\n",
    "bc.x = 1 * inch\n",
    "bc.y = 2.5 * inch\n",
    "bc.width = width - 2.5 * inch\n",
    "bc.height = 2 * inch\n",
    "print(f\"Bar plot boundaries = {bc.getBounds()}\")\n",
    "bc.data = [tuple(hist_dta[0])]\n",
    "d.add(bc)\n",
    "\n",
    "d.drawOn(c, 0, 0)\n",
    "c.showPage()"
   ]
  },
  {
   "attachments": {},
   "cell_type": "markdown",
   "metadata": {},
   "source": [
    "## Page 4 of PDF file"
   ]
  },
  {
   "cell_type": "code",
   "execution_count": 11,
   "metadata": {},
   "outputs": [
    {
     "name": "stdout",
     "output_type": "stream",
     "text": [
      "Paragraph height = 60, paragraph width = 424.6119402985074\n",
      "Paragraph height = 72, paragraph width = 313.0519402985074\n",
      "next_vertical_start = 162.0\n",
      "Paragraph height = 156, paragraph width = 504.0\n",
      "next_vertical_start = 354.0\n",
      "Table height = 216, table width = 170.32\n",
      "Row positions = [216, 198, 180, 162, 144, 126, 108, 90, 72, 54, 36, 18, 0], row heights = [18, 18, 18, 18, 18, 18, 18, 18, 18, 18, 18, 18]\n",
      "Column positions = [0, 42.58, 85.16, 127.74, 170.32], column widths = [42.58, 42.58, 42.58, 42.58]\n",
      "next_vertical_start = 570.0\n"
     ]
    }
   ],
   "source": [
    "# Let's use the ability of reportlab to return the dimensions of many of the objects\n",
    "# that we wish to \"paint\" on the canvas, to determine the best positions for them dynamically.\n",
    "\n",
    "# Insert logo at the top of the page\n",
    "logo_img_file = r'resources\\c4611_sample_logo.bmp'\n",
    "im_logo = Image.open(logo_img_file)\n",
    "\n",
    "# Get the dimnesions of the image so we can scale it properly\n",
    "# im_logo.size, im_logo.width, im_logo.height, im_logo.getbbox()\n",
    "im_width, im_height = im_logo.size\n",
    "\n",
    "# Images are placed using the bottom-left corner of the page as coordinate (0, 0) and the bottom-left corner of the image as (x, y)\n",
    "# We will place the image 3/4\" from the left and top of the page, setting the height to be 3/4\" and the width scaled appropriately to the height\n",
    "c.drawImage(image=logo_img_file, x=inch * 0.75, y=height - inch * 1.5, width=(im_width/im_height * 0.75 * inch), height=inch * 0.75)\n",
    "\n",
    "# Let's add an address block in the top-right corner\n",
    "# Valid values for alignment attribute = 'left', 'right', 'justify', 'centre', 'center'\n",
    "address_block = '''<para alignment=\"right\"><b>Cesar Mugnatto</b><br/>\n",
    "999 Queen St W<br/>\n",
    "Toronto, ON<br/>\n",
    "M6J 2W2<br/>\n",
    "Canada</para>'''\n",
    "para_address = Paragraph(address_block)\n",
    "\n",
    "# Reserve enough room to accomodate the paragrpah, but without overwriting the logo we just placed and keeping it 3/4\" from the right edge\n",
    "# Set wrap to available width (page width - logo width - 0.75 margin * 2)\n",
    "w, h = para_address.wrap(width - (im_width/im_height * 0.75 * inch) - 1.5 * inch, height - 0.75 * inch)\n",
    "\n",
    "# Before we place the paragraph, we might want to know how much room it takes up\n",
    "print(f\"Paragraph height = {para_address.height}, paragraph width = {para_address.width}\")\n",
    "\n",
    "# Place the paragraph so that the left-most character is located at the page width less the paragraph width less the right margin\n",
    "# and the bottom-most character is located at the page height less 3/4\" top margin less the paragrpah height\n",
    "para_address.drawOn(c, x=width - para_address.width - 0.75 * inch, y=height - para_address.height - 0.75 * inch)\n",
    "\n",
    "# Get the actual longest line for each line in the paragraph\n",
    "addr_long_line = max(para_address.getActualLineWidths0())\n",
    "\n",
    "# Create another paragraph to be used as a header that sits between the logo and the address\n",
    "# Let's make it long enough to force it to scroll\n",
    "header_block = '<para alignment=\"center\" fontsize=\"24\" leading=\"24\">THIS IS A LONG TITLE THAT SHOULD SCROLL ONTO MULTIPLE LINES</para>'\n",
    "para_header = Paragraph(header_block)\n",
    "\n",
    "w, h = para_header.wrap(width - (im_width/im_height * 0.75 * inch) - addr_long_line - 2.0 * inch, height - 0.75 * inch)\n",
    "\n",
    "# Before we place the paragraph, we might want to know how much room it takes up\n",
    "print(f\"Paragraph height = {para_header.height}, paragraph width = {para_header.width}\")\n",
    "\n",
    "para_header.drawOn(c, x=(width - para_header.width)/2, y=height - para_header.height - 0.75 * inch)\n",
    "\n",
    "# Calculate between the logo, the address block, and the header which is the element that occupies the most space vertically\n",
    "tallest_header = max(para_header.height, para_address.height, inch * 0.75)\n",
    "\n",
    "next_vertical_start = 1.25 * inch + tallest_header\n",
    "print(f\"next_vertical_start = {next_vertical_start}\")\n",
    "\n",
    "# Create a new justified paragraph 1/2# below the tallest element in the header\n",
    "#lorem_block = list(get_paragraphs(3, True))\n",
    "# The above generates bytes (apparently) - let's just use the following\n",
    "lorem_block = [lorem.paragraph() for _ in range(3)]\n",
    "lorem_block = '<para alignment=\"justify\">' + '<br/><br/>'.join(lorem_block) + '</para>'\n",
    "para_lorem = Paragraph(lorem_block)\n",
    "\n",
    "w, h = para_lorem.wrap(width - 1.5 * inch, height - next_vertical_start)\n",
    "\n",
    "# Before we place the paragraph, we might want to know how much room it takes up\n",
    "print(f\"Paragraph height = {para_lorem.height}, paragraph width = {para_lorem.width}\")\n",
    "\n",
    "para_lorem.drawOn(c, x=0.75 * inch, y=height - para_lorem.height - 1.25 * inch - tallest_header)\n",
    "\n",
    "# Add 1/2\" and the height of the paragrpah we just generated to the current next_vertical_start\n",
    "next_vertical_start = next_vertical_start + para_lorem.height + 0.5 * inch\n",
    "print(f\"next_vertical_start = {next_vertical_start}\")\n",
    "\n",
    "# Let's place another data table\n",
    "np_data = np.random.uniform(0.0, 1.0, (12, 4)).round(4).astype(str)\n",
    "data = [list(r) for r in np_data]\n",
    "tbl = Table(data)\n",
    "LIST_STYLE = TableStyle([\n",
    "      ('TEXTCOLOR', (0,0), (-1,-1), colors.yellow)\n",
    "])\n",
    "for row in range (12):\n",
    "    for col in range(4):\n",
    "        if float(data[row][col]) >= 0.5:\n",
    "            LIST_STYLE.add('BACKGROUND', (col, row), (col, row), colors.green)\n",
    "        else:\n",
    "            LIST_STYLE.add('BACKGROUND', (col, row), (col, row), colors.red)\n",
    "tbl.setStyle(LIST_STYLE)\n",
    "w, h = tbl.wrapOn(c, 0, 0)\n",
    "print(f\"Table height = {tbl._height}, table width = {tbl._width}\")\n",
    "print(f\"Row positions = {tbl._rowpositions}, row heights = {tbl._rowHeights}\")\n",
    "print(f\"Column positions = {tbl._colpositions}, column widths = {tbl._colWidths}\")\n",
    "\n",
    "tbl.drawOn(c, x= 0.75*inch, y=height - next_vertical_start - tbl._height)\n",
    "\n",
    "# Now let's create a pie chart based on the values in the data table\n",
    "# It will contain two halves representing those values >= 0.5 and those < 0.5\n",
    "# See: https://www.reportlab.com/chartgallery/pie/PieChart07/src/\n",
    "dpie = shapes.Drawing(width, height)\n",
    "pie = Pie3d()\n",
    "pie.x = 0\n",
    "pie.y = 0\n",
    "pie.width = width - tbl._width - 3.5 * inch\n",
    "pie.height = tbl._width\n",
    "#pie.angle_3d = 45\n",
    "#pie.direction 'clockwise'\n",
    "pie.perspective = 30\n",
    "pie.depth_3d = 20\n",
    "pie.data = [(np_data.astype(float).ravel() >= 0.5).sum(), (np_data.astype(float).ravel() < 0.5).sum()] # example: [30.600000000000001, 8.5, 39.299999999999997, 7.7000000000000002, 11.6, 2.2000000000000002]\n",
    "pie.slices[0].fillColor = colors.green\n",
    "pie.slices[1].fillColor = colors.red\n",
    "\n",
    "leg = Legend()\n",
    "leg.alignment = 'right'\n",
    "leg.strokeColor = colors.black\n",
    "leg.colorNamePairs = [(colors.green, f'>= 0.5 [{pie.data[0]}]'), (colors.red, f'< 0.5 [{pie.data[1]}]')]\n",
    "leg.x = 100\n",
    "leg.y = 100\n",
    "\n",
    "#pie.legend = leg\n",
    "pie.labels = [f'>= 0.5 [{pie.data[0]}]', f'< 0.5 [{pie.data[1]}]']\n",
    "pie.sideLabels = True\n",
    "pie.slices.fontName = 'ArialBold'\n",
    "#pie.simpleLabels = 0\n",
    "#pie.slices.fontColor = colors.yellow\n",
    "#for i in range(len(pie.data)):\n",
    "#    pie.slices[i].label_dx = -20\n",
    "#    pie.slices[i].label_dy = -20\n",
    "\n",
    "dpie.add(pie)\n",
    "# pie.getBounds()[1] gets us how much the starting y coordinate of the pie chart was offset veritically\n",
    "dpie.drawOn(c, 1.75 * inch + tbl._width, height - next_vertical_start - tbl._height - pie.getBounds()[1])\n",
    "\n",
    "next_vertical_start = next_vertical_start + tbl._height\n",
    "print(f\"next_vertical_start = {next_vertical_start}\")\n",
    "\n",
    "# Let's use the remaining space to generate some native barcodes rather than using barcode fonts\n",
    "b39 = barcode.code39.Extended39(value=\"1234567890\", barWidth=1, barHeight=inch * 0.75)\n",
    "b39.drawOn(c, x=0.75 * inch, y=1.5 * inch)\n",
    "\n",
    "\n",
    "b39d = barcode.createBarcodeDrawing('Extended39', value=\"1234567890\", barWidth=1.25, barHeight=inch * 0.25)\n",
    "b39d.rotate(45)\n",
    "b39d.shift(0, -b39d.width/3)\n",
    "b39d.drawOn(c, x=1.25 * inch + b39.width, y=1.5 * inch)\n",
    "\n",
    "c.showPage()"
   ]
  },
  {
   "cell_type": "code",
   "execution_count": 12,
   "metadata": {},
   "outputs": [],
   "source": [
    "c.save() # Finalizes the output by saving the PDF file and all pages that were created"
   ]
  }
 ],
 "metadata": {
  "kernelspec": {
   "display_name": "Python 3",
   "language": "python",
   "name": "python3"
  },
  "language_info": {
   "codemirror_mode": {
    "name": "ipython",
    "version": 3
   },
   "file_extension": ".py",
   "mimetype": "text/x-python",
   "name": "python",
   "nbconvert_exporter": "python",
   "pygments_lexer": "ipython3",
   "version": "3.11.1"
  },
  "orig_nbformat": 4
 },
 "nbformat": 4,
 "nbformat_minor": 2
}
